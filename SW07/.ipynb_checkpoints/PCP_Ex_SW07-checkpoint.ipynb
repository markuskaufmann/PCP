{
 "cells": [
  {
   "cell_type": "markdown",
   "metadata": {},
   "source": [
    "# PCP: Exercises SW07\n",
    "<br>"
   ]
  },
  {
   "cell_type": "markdown",
   "metadata": {},
   "source": [
    "<table style=\"text-align:left; float:left; display:block; width: 100%;\">\n",
    "    <tr>\n",
    "        <td style=\"width:100px;text-align:left;\"><b>Autor:</b></td>\n",
    "        <td style=\"width:200px;text-align:left;\">Markus Kaufmann</td>\n",
    "    </tr>\n",
    "    <tr>\n",
    "        <td style=\"width:100px;text-align:left;\"><b>Topic:</b></td>\n",
    "        <td style=\"width:200px;text-align:left;\">Scheme 5 + 6</td>\n",
    "    </tr>\n",
    "</table>"
   ]
  },
  {
   "cell_type": "markdown",
   "metadata": {},
   "source": [
    "<hr>"
   ]
  },
  {
   "cell_type": "markdown",
   "metadata": {},
   "source": [
    "## Aufgabe 2 *"
   ]
  },
  {
   "cell_type": "markdown",
   "metadata": {},
   "source": [
    "_Sie kennen die Fibonacci-Folge:_\n",
    "<br><br>\n",
    "![img_fib](ex2_fib.png)\n",
    "<br><br>"
   ]
  },
  {
   "cell_type": "markdown",
   "metadata": {},
   "source": [
    "_Die Definition einer strukturellen Rekursion könnte so aussehen:_"
   ]
  },
  {
   "cell_type": "markdown",
   "metadata": {},
   "source": [
    "```\n",
    "(define (fib n)\n",
    "    (cond\n",
    "       ((or (= n 0) (= n 1)) n)\n",
    "       (else (+ (fib (- n 1))\n",
    "                (fib (- n 2)))))\n",
    ")\n",
    "```"
   ]
  },
  {
   "cell_type": "markdown",
   "metadata": {},
   "source": [
    "_a) Implementieren Sie eine Rekursion mit Akkumulator. Nutzen Sie dazu die local Definition._"
   ]
  },
  {
   "cell_type": "markdown",
   "metadata": {},
   "source": [
    "**Lösung:**"
   ]
  },
  {
   "cell_type": "markdown",
   "metadata": {},
   "source": [
    "```\n",
    "(define (fib n)\n",
    "  (local (\n",
    "          (define (fib-acc a current previous)\n",
    "            (cond\n",
    "                   ((equal? a n) current)\n",
    "                   (else (fib-acc (+ a 1)  (+ current previous) current))\n",
    "            ))\n",
    "          )\n",
    "    (fib-acc 0 0 1)))\n",
    "```"
   ]
  },
  {
   "cell_type": "markdown",
   "metadata": {},
   "source": [
    "<br>\n",
    "\n",
    "_b) Führen Sie Vergleich Tests mit und ohne Akkumulator durch. Welche Unterschiede sehen Sie?_"
   ]
  },
  {
   "cell_type": "markdown",
   "metadata": {},
   "source": [
    "Unter der Verwendung eines Akkumulators verläuft die Berechnung für grosse _n_ (z.B. ab 40) schneller als ohne Akkumulator."
   ]
  },
  {
   "cell_type": "markdown",
   "metadata": {},
   "source": [
    "<br>\n",
    "\n",
    "## Aufgabe 3 *"
   ]
  },
  {
   "cell_type": "markdown",
   "metadata": {},
   "source": [
    "*a) Was ist die Ausgabe des folgenden Scheme-Programms?*"
   ]
  },
  {
   "cell_type": "markdown",
   "metadata": {},
   "source": [
    "```\n",
    "(define a 42)\n",
    "\n",
    "(let ((a 1)\n",
    "    (b (+ a 1)))\n",
    "b)\n",
    "\n",
    "(let* ((a 1)\n",
    "    (b (+ a 1)))\n",
    "b)\n",
    "```"
   ]
  },
  {
   "cell_type": "markdown",
   "metadata": {},
   "source": [
    "**Ausgabe:**<br>\n",
    "_43_<br>\n",
    "_2_<br>"
   ]
  },
  {
   "cell_type": "markdown",
   "metadata": {},
   "source": [
    "<br>\n",
    "\n",
    "*b) Erklären Sie, warum sich die beiden Ausdrücke unterscheiden.*"
   ]
  },
  {
   "cell_type": "markdown",
   "metadata": {},
   "source": [
    "Die obige Ausgabe lässt sich auf Grund der Eigenschaften von _let_ bzw. _let*_ erklären:<br>\n",
    "Mit beiden Ausdrücken lassen sich Variablendefinitionen realisieren, wobei jedoch im Fall von _let_ die Variable _a_ an den Wert **42** gebunden ist (und nicht an 1!).\n",
    "Im Falle von _let*_ wird _a_ an den Wert **1** gebunden (Auswertung von links nach rechts!) und kann dann bei der Definition von _b_ verwendet werden."
   ]
  },
  {
   "cell_type": "markdown",
   "metadata": {},
   "source": [
    "<br>\n",
    "\n",
    "## Aufgabe 4 *"
   ]
  },
  {
   "cell_type": "markdown",
   "metadata": {},
   "source": [
    "_a) Was ist die Ausgabe des folgenden Scheme-Programms?_"
   ]
  },
  {
   "cell_type": "markdown",
   "metadata": {},
   "source": [
    "```\n",
    "(define x 1)\n",
    "(define y 5)\n",
    "\n",
    "((lambda (x y)\n",
    "    (+ (* 2 x) y))\n",
    " y x)\n",
    "\n",
    "((lambda (a b)\n",
    "    (+ (* 2 x) y))\n",
    " y x)\n",
    "```"
   ]
  },
  {
   "cell_type": "markdown",
   "metadata": {},
   "source": [
    "**Ausgabe:**<br>\n",
    "_11_<br>\n",
    "_7_<br>"
   ]
  },
  {
   "cell_type": "markdown",
   "metadata": {},
   "source": [
    "<br>\n",
    "\n",
    "_b) Erklären Sie, warum sich die beiden Ausdrücke unterscheiden._"
   ]
  },
  {
   "cell_type": "markdown",
   "metadata": {},
   "source": [
    "Der **erste** Lambda-Ausdruck **(Ausgabe: 11)** wird folgenderweise ausgewertet:<br>\n",
    "- Formale Parameter: x, y\n",
    "- Expression: 2*x + y\n",
    "- Argumente (actual parameters): y, x\n",
    "\n",
    "x, y sind als 1 resp. 5 definiert. Diese werden als Argumente für den Aufruf des Lambda-Ausdrucks verwendet.<br>\n",
    "\n",
    "Der **zweite** Lambda-Ausdruck **(Ausgabe: 7)** wird folgenderweise ausgewertet:<br>\n",
    "- Formale Parameter: a, b\n",
    "- Expression: 2*x + y\n",
    "- Argumente (actual parameters): y, x\n",
    "\n",
    "Als Argumente für den Aufruf des Lambda-Ausdrucks werden wiederum y, x verwendet, welche innerhalb des Ausdrucks als a und b angesprochen werden können. Verwendet werden jedoch x und y, weshalb auf die Variablendefinitionen von x (1) und y(5) zurückgegriffen wird.<br>"
   ]
  },
  {
   "cell_type": "markdown",
   "metadata": {},
   "source": [
    "<br>\n",
    "\n",
    "## Aufgabe 5 *"
   ]
  },
  {
   "cell_type": "markdown",
   "metadata": {},
   "source": [
    "_Angenommen, man hat die Liste_"
   ]
  },
  {
   "cell_type": "markdown",
   "metadata": {},
   "source": [
    "```\n",
    "(define a-list (list (list 1 2 3) (list 1 2) (list 1 2 3 4)))\n",
    "```"
   ]
  },
  {
   "cell_type": "markdown",
   "metadata": {},
   "source": [
    "_und möchte jede Liste mit 0 beginnen lassen. Wie kann man dies erreichen, ohne, dass extra eine\n",
    "Funktion (mit Namen) geschrieben werden muss?_"
   ]
  },
  {
   "cell_type": "markdown",
   "metadata": {},
   "source": [
    "**Lösung:**"
   ]
  },
  {
   "cell_type": "markdown",
   "metadata": {},
   "source": [
    "```\n",
    "(map (lambda (other-list) (cons 0 other-list)) a-list)\n",
    "```"
   ]
  },
  {
   "cell_type": "markdown",
   "metadata": {},
   "source": [
    "<br>\n",
    "\n",
    "## Aufgabe 6 *"
   ]
  },
  {
   "cell_type": "markdown",
   "metadata": {},
   "source": [
    "_Angenommen, man hat eine Liste mit Funktionen zur Berechnung von Eigenschaften eines\n",
    "Rechteckes, hier Fläche und Umfang:_"
   ]
  },
  {
   "cell_type": "markdown",
   "metadata": {},
   "source": [
    "```\n",
    "(define rect-calc-list\n",
    "    (list (lambda (a b) (* a b)) (lambda (a b) (* 2 (+ a b)))))\n",
    "```"
   ]
  },
  {
   "cell_type": "markdown",
   "metadata": {},
   "source": [
    "_Implementieren Sie eine Funktion, der man die Liste mit Funktionen und die Seiten eines\n",
    "Rechteckes übergeben kann, dann die Eigenschaften berechnet und ausgibt.<br>\n",
    "Eine mögliche Interaktion könnte so aussehen:_"
   ]
  },
  {
   "cell_type": "markdown",
   "metadata": {},
   "source": [
    "```\n",
    "> (calc-a-list rect-calc-list 2 3)\n",
    "6\n",
    "10\n",
    "finished\n",
    "> (calc-a-list rect-calc-list 5 5)\n",
    "25\n",
    "20\n",
    "finished\n",
    ">\n",
    "```"
   ]
  },
  {
   "cell_type": "markdown",
   "metadata": {},
   "source": [
    "**Lösung:**"
   ]
  },
  {
   "cell_type": "markdown",
   "metadata": {},
   "source": [
    "```\n",
    "(define rect-calc-list\n",
    "\t(list (lambda (a b) (* a b)) (lambda (a b) (* 2 (+ a b))))\n",
    ")\n",
    "\n",
    "(define (calc-a-list functionlist a b)\n",
    "\t(begin (map (lambda (func) (pretty-print (func a b))) functionlist)\n",
    "         (display \"finished\"))\n",
    ")\n",
    "```"
   ]
  },
  {
   "cell_type": "markdown",
   "metadata": {},
   "source": [
    "<br>\n",
    "\n",
    "## GIMP Exercise *"
   ]
  },
  {
   "cell_type": "markdown",
   "metadata": {},
   "source": [
    "_a) Schreiben Sie ein GIMP Skript, das ein konfigurierbares Gitternetz im GIMP zeichnet. Die\n",
    "Vorlage enthält, dass ein neues Bild erstellt wird, Hintergrund- und Strichfarbe konfigurierbar\n",
    "sind, der Hintergrund transparent eingestellt werden kann. Sie müssen das Zeichnen der\n",
    "folgenden Gitternetz-Varianten umsetzen:_"
   ]
  },
  {
   "cell_type": "markdown",
   "metadata": {},
   "source": [
    "![gimp_script](gimp-scm-script.png)"
   ]
  },
  {
   "cell_type": "markdown",
   "metadata": {},
   "source": [
    "Siehe ***ex7_a_gridlines.scm***"
   ]
  },
  {
   "cell_type": "markdown",
   "metadata": {},
   "source": [
    "*b) Erstellen Sie ein neues GIMP Skript, basierend auf dem Skript aus a), mit dem man auf ein\n",
    "bestehendes Bild ein konfigurierbares Gitternetz im GIMP zeichnen kann. Der\n",
    "Konfigurationsdialog soll nur noch die Parameter enthalten, die tatsächlich notwendig sind.*"
   ]
  },
  {
   "cell_type": "markdown",
   "metadata": {},
   "source": [
    "Siehe ***ex7_b_gridlines.scm***"
   ]
  }
 ],
 "metadata": {
  "kernelspec": {
   "display_name": "Python 3",
   "language": "python",
   "name": "python3"
  },
  "language_info": {
   "codemirror_mode": {
    "name": "ipython",
    "version": 3
   },
   "file_extension": ".py",
   "mimetype": "text/x-python",
   "name": "python",
   "nbconvert_exporter": "python",
   "pygments_lexer": "ipython3",
   "version": "3.6.6"
  }
 },
 "nbformat": 4,
 "nbformat_minor": 2
}
